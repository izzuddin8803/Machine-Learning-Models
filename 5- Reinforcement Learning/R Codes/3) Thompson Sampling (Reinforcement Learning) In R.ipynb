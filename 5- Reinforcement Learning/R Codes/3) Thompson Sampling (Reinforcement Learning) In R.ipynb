{
 "cells": [
  {
   "cell_type": "markdown",
   "metadata": {},
   "source": [
    "# Thompson Sampling"
   ]
  },
  {
   "cell_type": "code",
   "execution_count": 2,
   "metadata": {
    "collapsed": true
   },
   "outputs": [],
   "source": [
    "# Importing the dataset\n",
    "dataset = read.csv('Ads_CTR_Optimisation.csv')"
   ]
  },
  {
   "cell_type": "code",
   "execution_count": 3,
   "metadata": {
    "collapsed": true
   },
   "outputs": [],
   "source": [
    "# Implementing Thompson Sampling\n",
    "N = 10000\n",
    "d = 10\n",
    "ads_selected = integer(0)\n",
    "numbers_of_rewards_1 = integer(d)\n",
    "numbers_of_rewards_0 = integer(d)\n",
    "total_reward = 0\n",
    "for (n in 1:N) {\n",
    "  ad = 0\n",
    "  max_random = 0\n",
    "  for (i in 1:d) {\n",
    "    random_beta = rbeta(n = 1,\n",
    "                        shape1 = numbers_of_rewards_1[i] + 1,\n",
    "                        shape2 = numbers_of_rewards_0[i] + 1)\n",
    "    if (random_beta > max_random) {\n",
    "      max_random = random_beta\n",
    "      ad = i\n",
    "    }\n",
    "  }\n",
    "  ads_selected = append(ads_selected, ad)\n",
    "  reward = dataset[n, ad]\n",
    "  if (reward == 1) {\n",
    "    numbers_of_rewards_1[ad] = numbers_of_rewards_1[ad] + 1\n",
    "  } else {\n",
    "    numbers_of_rewards_0[ad] = numbers_of_rewards_0[ad] + 1\n",
    "  }\n",
    "  total_reward = total_reward + reward\n",
    "}"
   ]
  },
  {
   "cell_type": "code",
   "execution_count": 4,
   "metadata": {},
   "outputs": [
    {
     "data": {
      "text/html": [
       "2598"
      ],
      "text/latex": [
       "2598"
      ],
      "text/markdown": [
       "2598"
      ],
      "text/plain": [
       "[1] 2598"
      ]
     },
     "metadata": {},
     "output_type": "display_data"
    }
   ],
   "source": [
    "total_reward"
   ]
  },
  {
   "cell_type": "markdown",
   "metadata": {},
   "source": [
    "## Visualising the results"
   ]
  },
  {
   "cell_type": "code",
   "execution_count": 5,
   "metadata": {},
   "outputs": [
    {
     "data": {
      "image/png": "[encoded data removed]",
      "text/plain": [
       "Plot with title \"Histogram of ads selections\""
      ]
     },
     "metadata": {},
     "output_type": "display_data"
    }
   ],
   "source": [
    "\n",
    "hist(ads_selected,\n",
    "     col = 'blue',\n",
    "     main = 'Histogram of ads selections',\n",
    "     xlab = 'Ads',\n",
    "     ylab = 'Number of times each ad was selected')"
   ]
  }
 ],
 "metadata": {
  "kernelspec": {
   "display_name": "R",
   "language": "R",
   "name": "ir"
  },
  "language_info": {
   "codemirror_mode": "r",
   "file_extension": ".r",
   "mimetype": "text/x-r-source",
   "name": "R",
   "pygments_lexer": "r",
   "version": "3.4.2"
  }
 },
 "nbformat": 4,
 "nbformat_minor": 2
}
