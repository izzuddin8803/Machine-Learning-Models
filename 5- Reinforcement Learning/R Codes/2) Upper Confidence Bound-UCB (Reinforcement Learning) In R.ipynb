{
 "cells": [
  {
   "cell_type": "markdown",
   "metadata": {},
   "source": [
    "# Upper Confidence Bound"
   ]
  },
  {
   "cell_type": "code",
   "execution_count": 2,
   "metadata": {
    "collapsed": true
   },
   "outputs": [],
   "source": [
    "# Importing the dataset\n",
    "dataset = read.csv('Ads_CTR_Optimisation.csv')"
   ]
  },
  {
   "cell_type": "code",
   "execution_count": 3,
   "metadata": {
    "collapsed": true
   },
   "outputs": [],
   "source": [
    "# Implementing UCB\n",
    "N = 10000\n",
    "d = 10\n",
    "ads_selected = integer(0)\n",
    "numbers_of_selections = integer(d)\n",
    "sums_of_rewards = integer(d)\n",
    "total_reward = 0\n",
    "for (n in 1:N) {\n",
    "  ad = 0\n",
    "  max_upper_bound = 0\n",
    "  for (i in 1:d) {\n",
    "    if (numbers_of_selections[i] > 0) {\n",
    "      average_reward = sums_of_rewards[i] / numbers_of_selections[i]\n",
    "      delta_i = sqrt(3/2 * log(n) / numbers_of_selections[i])\n",
    "      upper_bound = average_reward + delta_i\n",
    "    } else {\n",
    "        upper_bound = 1e400\n",
    "    }\n",
    "    if (upper_bound > max_upper_bound) {\n",
    "      max_upper_bound = upper_bound\n",
    "      ad = i\n",
    "    }\n",
    "  }\n",
    "  ads_selected = append(ads_selected, ad)\n",
    "  numbers_of_selections[ad] = numbers_of_selections[ad] + 1\n",
    "  reward = dataset[n, ad]\n",
    "  sums_of_rewards[ad] = sums_of_rewards[ad] + reward\n",
    "  total_reward = total_reward + reward\n",
    "}"
   ]
  },
  {
   "cell_type": "code",
   "execution_count": 5,
   "metadata": {},
   "outputs": [
    {
     "data": {
      "text/html": [
       "2178"
      ],
      "text/latex": [
       "2178"
      ],
      "text/markdown": [
       "2178"
      ],
      "text/plain": [
       "[1] 2178"
      ]
     },
     "metadata": {},
     "output_type": "display_data"
    }
   ],
   "source": [
    "total_reward"
   ]
  },
  {
   "cell_type": "markdown",
   "metadata": {},
   "source": [
    "## Here it shows a higher total rewards compare to random selection"
   ]
  },
  {
   "cell_type": "code",
   "execution_count": 4,
   "metadata": {},
   "outputs": [
    {
     "data": {
      "image/png": "[encoded data removed]",
      "text/plain": [
       "Plot with title \"Histogram of ads selections\""
      ]
     },
     "metadata": {},
     "output_type": "display_data"
    }
   ],
   "source": [
    "# Visualising the results\n",
    "hist(ads_selected,\n",
    "     col = 'blue',\n",
    "     main = 'Histogram of ads selections',\n",
    "     xlab = 'Ads',\n",
    "     ylab = 'Number of times each ad was selected')"
   ]
  }
 ],
 "metadata": {
  "kernelspec": {
   "display_name": "R",
   "language": "R",
   "name": "ir"
  },
  "language_info": {
   "codemirror_mode": "r",
   "file_extension": ".r",
   "mimetype": "text/x-r-source",
   "name": "R",
   "pygments_lexer": "r",
   "version": "3.4.2"
  }
 },
 "nbformat": 4,
 "nbformat_minor": 2
}
