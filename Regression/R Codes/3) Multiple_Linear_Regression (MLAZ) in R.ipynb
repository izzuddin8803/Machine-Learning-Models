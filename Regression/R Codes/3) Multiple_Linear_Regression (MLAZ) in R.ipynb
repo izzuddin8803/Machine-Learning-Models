{
 "cells": [
  {
   "cell_type": "code",
   "execution_count": 18,
   "metadata": {
    "collapsed": true
   },
   "outputs": [],
   "source": [
    "# Importing the dataset\n",
    "dataset = read.csv('50_Startups.csv')"
   ]
  },
  {
   "cell_type": "code",
   "execution_count": 19,
   "metadata": {},
   "outputs": [
    {
     "data": {
      "text/html": [
       "<table>\n",
       "<thead><tr><th scope=col>R.D.Spend</th><th scope=col>Administration</th><th scope=col>Marketing.Spend</th><th scope=col>State</th><th scope=col>Profit</th></tr></thead>\n",
       "<tbody>\n",
       "\t<tr><td>165349.2  </td><td>136897.80 </td><td>471784.1  </td><td>New York  </td><td>192261.8  </td></tr>\n",
       "\t<tr><td>162597.7  </td><td>151377.59 </td><td>443898.5  </td><td>California</td><td>191792.1  </td></tr>\n",
       "\t<tr><td>153441.5  </td><td>101145.55 </td><td>407934.5  </td><td>Florida   </td><td>191050.4  </td></tr>\n",
       "\t<tr><td>144372.4  </td><td>118671.85 </td><td>383199.6  </td><td>New York  </td><td>182902.0  </td></tr>\n",
       "\t<tr><td>142107.3  </td><td> 91391.77 </td><td>366168.4  </td><td>Florida   </td><td>166187.9  </td></tr>\n",
       "\t<tr><td>131876.9  </td><td> 99814.71 </td><td>362861.4  </td><td>New York  </td><td>156991.1  </td></tr>\n",
       "\t<tr><td>134615.5  </td><td>147198.87 </td><td>127716.8  </td><td>California</td><td>156122.5  </td></tr>\n",
       "\t<tr><td>130298.1  </td><td>145530.06 </td><td>323876.7  </td><td>Florida   </td><td>155752.6  </td></tr>\n",
       "\t<tr><td>120542.5  </td><td>148718.95 </td><td>311613.3  </td><td>New York  </td><td>152211.8  </td></tr>\n",
       "\t<tr><td>123334.9  </td><td>108679.17 </td><td>304981.6  </td><td>California</td><td>149760.0  </td></tr>\n",
       "</tbody>\n",
       "</table>\n"
      ],
      "text/latex": [
       "\\begin{tabular}{r|lllll}\n",
       " R.D.Spend & Administration & Marketing.Spend & State & Profit\\\\\n",
       "\\hline\n",
       "\t 165349.2   & 136897.80  & 471784.1   & New York   & 192261.8  \\\\\n",
       "\t 162597.7   & 151377.59  & 443898.5   & California & 191792.1  \\\\\n",
       "\t 153441.5   & 101145.55  & 407934.5   & Florida    & 191050.4  \\\\\n",
       "\t 144372.4   & 118671.85  & 383199.6   & New York   & 182902.0  \\\\\n",
       "\t 142107.3   &  91391.77  & 366168.4   & Florida    & 166187.9  \\\\\n",
       "\t 131876.9   &  99814.71  & 362861.4   & New York   & 156991.1  \\\\\n",
       "\t 134615.5   & 147198.87  & 127716.8   & California & 156122.5  \\\\\n",
       "\t 130298.1   & 145530.06  & 323876.7   & Florida    & 155752.6  \\\\\n",
       "\t 120542.5   & 148718.95  & 311613.3   & New York   & 152211.8  \\\\\n",
       "\t 123334.9   & 108679.17  & 304981.6   & California & 149760.0  \\\\\n",
       "\\end{tabular}\n"
      ],
      "text/markdown": [
       "\n",
       "R.D.Spend | Administration | Marketing.Spend | State | Profit | \n",
       "|---|---|---|---|---|---|---|---|---|---|\n",
       "| 165349.2   | 136897.80  | 471784.1   | New York   | 192261.8   | \n",
       "| 162597.7   | 151377.59  | 443898.5   | California | 191792.1   | \n",
       "| 153441.5   | 101145.55  | 407934.5   | Florida    | 191050.4   | \n",
       "| 144372.4   | 118671.85  | 383199.6   | New York   | 182902.0   | \n",
       "| 142107.3   |  91391.77  | 366168.4   | Florida    | 166187.9   | \n",
       "| 131876.9   |  99814.71  | 362861.4   | New York   | 156991.1   | \n",
       "| 134615.5   | 147198.87  | 127716.8   | California | 156122.5   | \n",
       "| 130298.1   | 145530.06  | 323876.7   | Florida    | 155752.6   | \n",
       "| 120542.5   | 148718.95  | 311613.3   | New York   | 152211.8   | \n",
       "| 123334.9   | 108679.17  | 304981.6   | California | 149760.0   | \n",
       "\n",
       "\n"
      ],
      "text/plain": [
       "   R.D.Spend Administration Marketing.Spend State      Profit  \n",
       "1  165349.2  136897.80      471784.1        New York   192261.8\n",
       "2  162597.7  151377.59      443898.5        California 191792.1\n",
       "3  153441.5  101145.55      407934.5        Florida    191050.4\n",
       "4  144372.4  118671.85      383199.6        New York   182902.0\n",
       "5  142107.3   91391.77      366168.4        Florida    166187.9\n",
       "6  131876.9   99814.71      362861.4        New York   156991.1\n",
       "7  134615.5  147198.87      127716.8        California 156122.5\n",
       "8  130298.1  145530.06      323876.7        Florida    155752.6\n",
       "9  120542.5  148718.95      311613.3        New York   152211.8\n",
       "10 123334.9  108679.17      304981.6        California 149760.0"
      ]
     },
     "metadata": {},
     "output_type": "display_data"
    }
   ],
   "source": [
    "head(dataset, 10)"
   ]
  },
  {
   "cell_type": "code",
   "execution_count": 20,
   "metadata": {
    "collapsed": true
   },
   "outputs": [],
   "source": [
    "# Encoding categorical data\n",
    "dataset$State = factor(dataset$State,\n",
    "                       levels = c('New York', 'California', 'Florida'),\n",
    "                       labels = c(1, 2, 3))"
   ]
  },
  {
   "cell_type": "code",
   "execution_count": 21,
   "metadata": {
    "collapsed": true
   },
   "outputs": [],
   "source": [
    "# Splitting the dataset into the Training set and Test set\n",
    "library(caTools)\n",
    "set.seed(123)\n",
    "split = sample.split(dataset$Profit, SplitRatio = 0.8)\n",
    "training_set = subset(dataset, split == TRUE)\n",
    "test_set = subset(dataset, split == FALSE)"
   ]
  },
  {
   "cell_type": "code",
   "execution_count": 22,
   "metadata": {},
   "outputs": [
    {
     "data": {
      "text/plain": [
       "\n",
       "Call:\n",
       "lm(formula = Profit ~ ., data = training_set)\n",
       "\n",
       "Residuals:\n",
       "   Min     1Q Median     3Q    Max \n",
       "-33128  -4865      5   6098  18065 \n",
       "\n",
       "Coefficients:\n",
       "                  Estimate Std. Error t value Pr(>|t|)    \n",
       "(Intercept)      4.965e+04  7.637e+03   6.501 1.94e-07 ***\n",
       "R.D.Spend        7.986e-01  5.604e-02  14.251 6.70e-16 ***\n",
       "Administration  -2.942e-02  5.828e-02  -0.505    0.617    \n",
       "Marketing.Spend  3.268e-02  2.127e-02   1.537    0.134    \n",
       "State2           1.213e+02  3.751e+03   0.032    0.974    \n",
       "State3           2.376e+02  4.127e+03   0.058    0.954    \n",
       "---\n",
       "Signif. codes:  0 '***' 0.001 '**' 0.01 '*' 0.05 '.' 0.1 ' ' 1\n",
       "\n",
       "Residual standard error: 9908 on 34 degrees of freedom\n",
       "Multiple R-squared:  0.9499,\tAdjusted R-squared:  0.9425 \n",
       "F-statistic:   129 on 5 and 34 DF,  p-value: < 2.2e-16\n"
      ]
     },
     "metadata": {},
     "output_type": "display_data"
    }
   ],
   "source": [
    "# Fitting Multiple Linear Regression to the Training set\n",
    "regressor = lm(formula = Profit ~ .,\n",
    "               data = training_set)\n",
    "summary(regressor)"
   ]
  },
  {
   "cell_type": "markdown",
   "metadata": {},
   "source": [
    "## we dont need to assign dummy variable as in R lm model create by itself"
   ]
  },
  {
   "cell_type": "code",
   "execution_count": 23,
   "metadata": {},
   "outputs": [
    {
     "data": {
      "text/html": [
       "<dl class=dl-horizontal>\n",
       "\t<dt>4</dt>\n",
       "\t\t<dd>173981.087289013</dd>\n",
       "\t<dt>5</dt>\n",
       "\t\t<dd>172655.638294541</dd>\n",
       "\t<dt>8</dt>\n",
       "\t\t<dd>160250.020750651</dd>\n",
       "\t<dt>11</dt>\n",
       "\t\t<dd>135513.899440935</dd>\n",
       "\t<dt>16</dt>\n",
       "\t\t<dd>146059.361208703</dd>\n",
       "\t<dt>20</dt>\n",
       "\t\t<dd>114151.026047729</dd>\n",
       "\t<dt>21</dt>\n",
       "\t\t<dd>117081.624376537</dd>\n",
       "\t<dt>24</dt>\n",
       "\t\t<dd>110671.313743947</dd>\n",
       "\t<dt>31</dt>\n",
       "\t\t<dd>98975.2939884832</dd>\n",
       "\t<dt>32</dt>\n",
       "\t\t<dd>96867.0305670216</dd>\n",
       "</dl>\n"
      ],
      "text/latex": [
       "\\begin{description*}\n",
       "\\item[4] 173981.087289013\n",
       "\\item[5] 172655.638294541\n",
       "\\item[8] 160250.020750651\n",
       "\\item[11] 135513.899440935\n",
       "\\item[16] 146059.361208703\n",
       "\\item[20] 114151.026047729\n",
       "\\item[21] 117081.624376537\n",
       "\\item[24] 110671.313743947\n",
       "\\item[31] 98975.2939884832\n",
       "\\item[32] 96867.0305670216\n",
       "\\end{description*}\n"
      ],
      "text/markdown": [
       "4\n",
       ":   173981.0872890135\n",
       ":   172655.6382945418\n",
       ":   160250.02075065111\n",
       ":   135513.89944093516\n",
       ":   146059.36120870320\n",
       ":   114151.02604772921\n",
       ":   117081.62437653724\n",
       ":   110671.31374394731\n",
       ":   98975.293988483232\n",
       ":   96867.0305670216\n",
       "\n"
      ],
      "text/plain": [
       "        4         5         8        11        16        20        21        24 \n",
       "173981.09 172655.64 160250.02 135513.90 146059.36 114151.03 117081.62 110671.31 \n",
       "       31        32 \n",
       " 98975.29  96867.03 "
      ]
     },
     "metadata": {},
     "output_type": "display_data"
    }
   ],
   "source": [
    "# Predicting the Test set results\n",
    "y_pred = predict(regressor, newdata = test_set)\n",
    "y_pred"
   ]
  },
  {
   "cell_type": "code",
   "execution_count": 24,
   "metadata": {},
   "outputs": [
    {
     "data": {
      "text/plain": [
       "\n",
       "Call:\n",
       "lm(formula = Profit ~ R.D.Spend + Administration + Marketing.Spend + \n",
       "    State, data = dataset)\n",
       "\n",
       "Residuals:\n",
       "   Min     1Q Median     3Q    Max \n",
       "-33504  -4736     90   6672  17338 \n",
       "\n",
       "Coefficients:\n",
       "                  Estimate Std. Error t value Pr(>|t|)    \n",
       "(Intercept)      5.008e+04  6.953e+03   7.204 5.76e-09 ***\n",
       "R.D.Spend        8.060e-01  4.641e-02  17.369  < 2e-16 ***\n",
       "Administration  -2.700e-02  5.223e-02  -0.517    0.608    \n",
       "Marketing.Spend  2.698e-02  1.714e-02   1.574    0.123    \n",
       "State2           4.189e+01  3.256e+03   0.013    0.990    \n",
       "State3           2.407e+02  3.339e+03   0.072    0.943    \n",
       "---\n",
       "Signif. codes:  0 '***' 0.001 '**' 0.01 '*' 0.05 '.' 0.1 ' ' 1\n",
       "\n",
       "Residual standard error: 9439 on 44 degrees of freedom\n",
       "Multiple R-squared:  0.9508,\tAdjusted R-squared:  0.9452 \n",
       "F-statistic: 169.9 on 5 and 44 DF,  p-value: < 2.2e-16\n"
      ]
     },
     "metadata": {},
     "output_type": "display_data"
    }
   ],
   "source": [
    "# Model using backward elimination\n",
    "regressor = lm(formula = Profit ~ R.D.Spend + Administration + Marketing.Spend + State,\n",
    "               data = dataset)\n",
    "summary(regressor)"
   ]
  },
  {
   "cell_type": "code",
   "execution_count": 25,
   "metadata": {},
   "outputs": [
    {
     "data": {
      "text/plain": [
       "\n",
       "Call:\n",
       "lm(formula = Profit ~ R.D.Spend + Administration + Marketing.Spend, \n",
       "    data = dataset)\n",
       "\n",
       "Residuals:\n",
       "   Min     1Q Median     3Q    Max \n",
       "-33534  -4795     63   6606  17275 \n",
       "\n",
       "Coefficients:\n",
       "                  Estimate Std. Error t value Pr(>|t|)    \n",
       "(Intercept)      5.012e+04  6.572e+03   7.626 1.06e-09 ***\n",
       "R.D.Spend        8.057e-01  4.515e-02  17.846  < 2e-16 ***\n",
       "Administration  -2.682e-02  5.103e-02  -0.526    0.602    \n",
       "Marketing.Spend  2.723e-02  1.645e-02   1.655    0.105    \n",
       "---\n",
       "Signif. codes:  0 '***' 0.001 '**' 0.01 '*' 0.05 '.' 0.1 ' ' 1\n",
       "\n",
       "Residual standard error: 9232 on 46 degrees of freedom\n",
       "Multiple R-squared:  0.9507,\tAdjusted R-squared:  0.9475 \n",
       "F-statistic:   296 on 3 and 46 DF,  p-value: < 2.2e-16\n"
      ]
     },
     "metadata": {},
     "output_type": "display_data"
    }
   ],
   "source": [
    "# after removing state with no statistical significance\n",
    "regressor = lm(formula = Profit ~ R.D.Spend + Administration + Marketing.Spend,\n",
    "               data = dataset)\n",
    "summary(regressor)"
   ]
  },
  {
   "cell_type": "code",
   "execution_count": 26,
   "metadata": {},
   "outputs": [
    {
     "data": {
      "text/plain": [
       "\n",
       "Call:\n",
       "lm(formula = Profit ~ R.D.Spend + Marketing.Spend, data = dataset)\n",
       "\n",
       "Residuals:\n",
       "   Min     1Q Median     3Q    Max \n",
       "-33645  -4632   -414   6484  17097 \n",
       "\n",
       "Coefficients:\n",
       "                 Estimate Std. Error t value Pr(>|t|)    \n",
       "(Intercept)     4.698e+04  2.690e+03  17.464   <2e-16 ***\n",
       "R.D.Spend       7.966e-01  4.135e-02  19.266   <2e-16 ***\n",
       "Marketing.Spend 2.991e-02  1.552e-02   1.927     0.06 .  \n",
       "---\n",
       "Signif. codes:  0 '***' 0.001 '**' 0.01 '*' 0.05 '.' 0.1 ' ' 1\n",
       "\n",
       "Residual standard error: 9161 on 47 degrees of freedom\n",
       "Multiple R-squared:  0.9505,\tAdjusted R-squared:  0.9483 \n",
       "F-statistic: 450.8 on 2 and 47 DF,  p-value: < 2.2e-16\n"
      ]
     },
     "metadata": {},
     "output_type": "display_data"
    }
   ],
   "source": [
    "# after removing Administration with no statistical significance\n",
    "regressor = lm(formula = Profit ~ R.D.Spend + Marketing.Spend,\n",
    "               data = dataset)\n",
    "summary(regressor)\n"
   ]
  },
  {
   "cell_type": "code",
   "execution_count": 27,
   "metadata": {},
   "outputs": [
    {
     "data": {
      "text/plain": [
       "\n",
       "Call:\n",
       "lm(formula = Profit ~ R.D.Spend, data = dataset)\n",
       "\n",
       "Residuals:\n",
       "   Min     1Q Median     3Q    Max \n",
       "-34351  -4626   -375   6249  17188 \n",
       "\n",
       "Coefficients:\n",
       "             Estimate Std. Error t value Pr(>|t|)    \n",
       "(Intercept) 4.903e+04  2.538e+03   19.32   <2e-16 ***\n",
       "R.D.Spend   8.543e-01  2.931e-02   29.15   <2e-16 ***\n",
       "---\n",
       "Signif. codes:  0 '***' 0.001 '**' 0.01 '*' 0.05 '.' 0.1 ' ' 1\n",
       "\n",
       "Residual standard error: 9416 on 48 degrees of freedom\n",
       "Multiple R-squared:  0.9465,\tAdjusted R-squared:  0.9454 \n",
       "F-statistic: 849.8 on 1 and 48 DF,  p-value: < 2.2e-16\n"
      ]
     },
     "metadata": {},
     "output_type": "display_data"
    }
   ],
   "source": [
    "# after removing Marketing.Spend with no statistical significance\n",
    "regressor = lm(formula = Profit ~ R.D.Spend,\n",
    "               data = dataset)\n",
    "summary(regressor)"
   ]
  }
 ],
 "metadata": {
  "kernelspec": {
   "display_name": "R",
   "language": "R",
   "name": "ir"
  },
  "language_info": {
   "codemirror_mode": "r",
   "file_extension": ".r",
   "mimetype": "text/x-r-source",
   "name": "R",
   "pygments_lexer": "r",
   "version": "3.4.2"
  }
 },
 "nbformat": 4,
 "nbformat_minor": 2
}
