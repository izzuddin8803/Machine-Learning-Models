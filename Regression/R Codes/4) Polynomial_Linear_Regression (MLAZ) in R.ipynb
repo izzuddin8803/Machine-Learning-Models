{
 "cells": [
  {
   "cell_type": "code",
   "execution_count": 2,
   "metadata": {
    "collapsed": true
   },
   "outputs": [],
   "source": [
    "# Import data\n",
    "dataset = read.csv('Position_Salaries.csv')\n",
    "dataset = dataset[2:3]"
   ]
  },
  {
   "cell_type": "code",
   "execution_count": 3,
   "metadata": {},
   "outputs": [
    {
     "data": {
      "text/html": [
       "<table>\n",
       "<thead><tr><th scope=col>Level</th><th scope=col>Salary</th></tr></thead>\n",
       "<tbody>\n",
       "\t<tr><td>1     </td><td> 45000</td></tr>\n",
       "\t<tr><td>2     </td><td> 50000</td></tr>\n",
       "\t<tr><td>3     </td><td> 60000</td></tr>\n",
       "\t<tr><td>4     </td><td> 80000</td></tr>\n",
       "\t<tr><td>5     </td><td>110000</td></tr>\n",
       "\t<tr><td>6     </td><td>150000</td></tr>\n",
       "</tbody>\n",
       "</table>\n"
      ],
      "text/latex": [
       "\\begin{tabular}{r|ll}\n",
       " Level & Salary\\\\\n",
       "\\hline\n",
       "\t 1      &  45000\\\\\n",
       "\t 2      &  50000\\\\\n",
       "\t 3      &  60000\\\\\n",
       "\t 4      &  80000\\\\\n",
       "\t 5      & 110000\\\\\n",
       "\t 6      & 150000\\\\\n",
       "\\end{tabular}\n"
      ],
      "text/markdown": [
       "\n",
       "Level | Salary | \n",
       "|---|---|---|---|---|---|\n",
       "| 1      |  45000 | \n",
       "| 2      |  50000 | \n",
       "| 3      |  60000 | \n",
       "| 4      |  80000 | \n",
       "| 5      | 110000 | \n",
       "| 6      | 150000 | \n",
       "\n",
       "\n"
      ],
      "text/plain": [
       "  Level Salary\n",
       "1 1      45000\n",
       "2 2      50000\n",
       "3 3      60000\n",
       "4 4      80000\n",
       "5 5     110000\n",
       "6 6     150000"
      ]
     },
     "metadata": {},
     "output_type": "display_data"
    }
   ],
   "source": [
    "head(dataset)"
   ]
  },
  {
   "cell_type": "code",
   "execution_count": 4,
   "metadata": {
    "collapsed": true
   },
   "outputs": [],
   "source": [
    "# Fitting Linear Regression\n",
    "lin_reg = lm(formula = Salary ~ .,\n",
    "             data = dataset)"
   ]
  },
  {
   "cell_type": "code",
   "execution_count": 5,
   "metadata": {},
   "outputs": [
    {
     "data": {
      "text/plain": [
       "\n",
       "Call:\n",
       "lm(formula = Salary ~ ., data = dataset)\n",
       "\n",
       "Coefficients:\n",
       "(Intercept)        Level  \n",
       "    -195333        80879  \n"
      ]
     },
     "metadata": {},
     "output_type": "display_data"
    }
   ],
   "source": [
    "lin_reg"
   ]
  },
  {
   "cell_type": "code",
   "execution_count": 6,
   "metadata": {
    "collapsed": true
   },
   "outputs": [],
   "source": [
    "# Fitting Polynomial Regression (by creating polynomial terms to independent vriable \"Level\")\n",
    "dataset$Level2 = dataset$Level^2\n",
    "dataset$Level3 = dataset$Level^3\n",
    "dataset$Level4 = dataset$Level^4\n",
    "poly_reg = lm(formula = Salary ~ .,\n",
    "              data = dataset)"
   ]
  },
  {
   "cell_type": "code",
   "execution_count": 7,
   "metadata": {},
   "outputs": [
    {
     "data": {
      "text/html": [
       "<table>\n",
       "<thead><tr><th scope=col>Level</th><th scope=col>Salary</th><th scope=col>Level2</th><th scope=col>Level3</th><th scope=col>Level4</th></tr></thead>\n",
       "<tbody>\n",
       "\t<tr><td>1     </td><td> 45000</td><td> 1    </td><td>  1   </td><td>   1  </td></tr>\n",
       "\t<tr><td>2     </td><td> 50000</td><td> 4    </td><td>  8   </td><td>  16  </td></tr>\n",
       "\t<tr><td>3     </td><td> 60000</td><td> 9    </td><td> 27   </td><td>  81  </td></tr>\n",
       "\t<tr><td>4     </td><td> 80000</td><td>16    </td><td> 64   </td><td> 256  </td></tr>\n",
       "\t<tr><td>5     </td><td>110000</td><td>25    </td><td>125   </td><td> 625  </td></tr>\n",
       "\t<tr><td>6     </td><td>150000</td><td>36    </td><td>216   </td><td>1296  </td></tr>\n",
       "</tbody>\n",
       "</table>\n"
      ],
      "text/latex": [
       "\\begin{tabular}{r|lllll}\n",
       " Level & Salary & Level2 & Level3 & Level4\\\\\n",
       "\\hline\n",
       "\t 1      &  45000 &  1     &   1    &    1  \\\\\n",
       "\t 2      &  50000 &  4     &   8    &   16  \\\\\n",
       "\t 3      &  60000 &  9     &  27    &   81  \\\\\n",
       "\t 4      &  80000 & 16     &  64    &  256  \\\\\n",
       "\t 5      & 110000 & 25     & 125    &  625  \\\\\n",
       "\t 6      & 150000 & 36     & 216    & 1296  \\\\\n",
       "\\end{tabular}\n"
      ],
      "text/markdown": [
       "\n",
       "Level | Salary | Level2 | Level3 | Level4 | \n",
       "|---|---|---|---|---|---|\n",
       "| 1      |  45000 |  1     |   1    |    1   | \n",
       "| 2      |  50000 |  4     |   8    |   16   | \n",
       "| 3      |  60000 |  9     |  27    |   81   | \n",
       "| 4      |  80000 | 16     |  64    |  256   | \n",
       "| 5      | 110000 | 25     | 125    |  625   | \n",
       "| 6      | 150000 | 36     | 216    | 1296   | \n",
       "\n",
       "\n"
      ],
      "text/plain": [
       "  Level Salary Level2 Level3 Level4\n",
       "1 1      45000  1       1       1  \n",
       "2 2      50000  4       8      16  \n",
       "3 3      60000  9      27      81  \n",
       "4 4      80000 16      64     256  \n",
       "5 5     110000 25     125     625  \n",
       "6 6     150000 36     216    1296  "
      ]
     },
     "metadata": {},
     "output_type": "display_data"
    }
   ],
   "source": [
    "head(dataset)"
   ]
  },
  {
   "cell_type": "code",
   "execution_count": 9,
   "metadata": {},
   "outputs": [
    {
     "data": {},
     "metadata": {},
     "output_type": "display_data"
    },
    {
     "data": {
      "image/png": "[encoded data removed]",
      "text/plain": [
       "plot without title"
      ]
     },
     "metadata": {},
     "output_type": "display_data"
    }
   ],
   "source": [
    "# Visualising Linear Regression\n",
    "library(ggplot2)\n",
    "ggplot() +\n",
    "  geom_point(aes(x = dataset$Level, y = dataset$Salary),\n",
    "             colour = 'red') +\n",
    "  geom_line(aes(x = dataset$Level, y = predict(lin_reg, newdata = dataset)),\n",
    "            colour = 'blue') +\n",
    "  ggtitle('Truth or Bluff (Linear Regression)') +\n",
    "  xlab('Level') +\n",
    "  ylab('Salary')"
   ]
  },
  {
   "cell_type": "code",
   "execution_count": 10,
   "metadata": {},
   "outputs": [
    {
     "data": {},
     "metadata": {},
     "output_type": "display_data"
    },
    {
     "data": {
      "image/png": "[encoded data removed]",
      "text/plain": [
       "plot without title"
      ]
     },
     "metadata": {},
     "output_type": "display_data"
    }
   ],
   "source": [
    "# Visualising the Polynomial Regression results\n",
    "library(ggplot2)\n",
    "ggplot() +\n",
    "  geom_point(aes(x = dataset$Level, y = dataset$Salary),\n",
    "             colour = 'red') +\n",
    "  geom_line(aes(x = dataset$Level, y = predict(poly_reg, newdata = dataset)),\n",
    "            colour = 'blue') +\n",
    "  ggtitle('Truth or Bluff (Polynomial Regression)') +\n",
    "  xlab('Level') +\n",
    "  ylab('Salary')"
   ]
  },
  {
   "cell_type": "code",
   "execution_count": 11,
   "metadata": {},
   "outputs": [
    {
     "data": {},
     "metadata": {},
     "output_type": "display_data"
    },
    {
     "data": {
      "image/png": "[encoded data removed]",
      "text/plain": [
       "plot without title"
      ]
     },
     "metadata": {},
     "output_type": "display_data"
    }
   ],
   "source": [
    "# Visualising the Regression Model results (for higher resolution and smoother curve)\n",
    "library(ggplot2)\n",
    "x_grid = seq(min(dataset$Level), max(dataset$Level), 0.1)\n",
    "ggplot() +\n",
    "  geom_point(aes(x = dataset$Level, y = dataset$Salary),\n",
    "             colour = 'red') +\n",
    "  geom_line(aes(x = x_grid, y = predict(poly_reg,\n",
    "                                        newdata = data.frame(Level = x_grid,\n",
    "                                                             Level2 = x_grid^2,\n",
    "                                                             Level3 = x_grid^3,\n",
    "                                                             Level4 = x_grid^4))),\n",
    "            colour = 'blue') +\n",
    "  ggtitle('Truth or Bluff (Polynomial Regression)') +\n",
    "  xlab('Level') +\n",
    "  ylab('Salary')"
   ]
  },
  {
   "cell_type": "code",
   "execution_count": 12,
   "metadata": {},
   "outputs": [
    {
     "data": {
      "text/html": [
       "<strong>1:</strong> 330378.787878788"
      ],
      "text/latex": [
       "\\textbf{1:} 330378.787878788"
      ],
      "text/markdown": [
       "**1:** 330378.787878788"
      ],
      "text/plain": [
       "       1 \n",
       "330378.8 "
      ]
     },
     "metadata": {},
     "output_type": "display_data"
    }
   ],
   "source": [
    "# Predicting a new result with Linear Regression\n",
    "predict(lin_reg, data.frame(Level = 6.5))"
   ]
  },
  {
   "cell_type": "code",
   "execution_count": 13,
   "metadata": {},
   "outputs": [
    {
     "data": {
      "text/html": [
       "<strong>1:</strong> 158862.452651514"
      ],
      "text/latex": [
       "\\textbf{1:} 158862.452651514"
      ],
      "text/markdown": [
       "**1:** 158862.452651514"
      ],
      "text/plain": [
       "       1 \n",
       "158862.5 "
      ]
     },
     "metadata": {},
     "output_type": "display_data"
    }
   ],
   "source": [
    "# Predicting a new result with Polynomial Regression\n",
    "predict(poly_reg, data.frame(Level = 6.5,\n",
    "                             Level2 = 6.5^2,\n",
    "                             Level3 = 6.5^3,\n",
    "                             Level4 = 6.5^4))"
   ]
  }
 ],
 "metadata": {
  "kernelspec": {
   "display_name": "R",
   "language": "R",
   "name": "ir"
  },
  "language_info": {
   "codemirror_mode": "r",
   "file_extension": ".r",
   "mimetype": "text/x-r-source",
   "name": "R",
   "pygments_lexer": "r",
   "version": "3.4.2"
  }
 },
 "nbformat": 4,
 "nbformat_minor": 2
}
