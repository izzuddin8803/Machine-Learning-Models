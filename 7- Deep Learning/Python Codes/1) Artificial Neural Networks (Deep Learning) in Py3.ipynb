{
 "cells": [
  {
   "cell_type": "markdown",
   "metadata": {},
   "source": [
    "# Artificial Neural Network\n",
    "\n",
    "#### Installing Theano\n",
    "#### pip install --upgrade --no-deps git+git://github.com/Theano/Theano.git\n",
    "\n",
    "#### Installing Tensorflow\n",
    "#### Install Tensorflow from the website: https://www.tensorflow.org/versions/r0.12/get_started/os_setup.html\n",
    "\n",
    "#### Installing Keras\n",
    "#### pip install --upgrade keras"
   ]
  },
  {
   "cell_type": "markdown",
   "metadata": {},
   "source": [
    "## Data Preprocessing"
   ]
  },
  {
   "cell_type": "code",
   "execution_count": 2,
   "metadata": {
    "collapsed": true
   },
   "outputs": [],
   "source": [
    "# Importing the libraries\n",
    "import numpy as np\n",
    "import matplotlib.pyplot as plt\n",
    "import pandas as pd"
   ]
  },
  {
   "cell_type": "code",
   "execution_count": 3,
   "metadata": {
    "collapsed": true
   },
   "outputs": [],
   "source": [
    "# Importing the dataset\n",
    "dataset = pd.read_csv('Churn_Modelling.csv')\n",
    "X = dataset.iloc[:, 3:13].values\n",
    "y = dataset.iloc[:, 13].values"
   ]
  },
  {
   "cell_type": "code",
   "execution_count": 4,
   "metadata": {},
   "outputs": [
    {
     "data": {
      "text/html": [
       "<div>\n",
       "<style>\n",
       "    .dataframe thead tr:only-child th {\n",
       "        text-align: right;\n",
       "    }\n",
       "\n",
       "    .dataframe thead th {\n",
       "        text-align: left;\n",
       "    }\n",
       "\n",
       "    .dataframe tbody tr th {\n",
       "        vertical-align: top;\n",
       "    }\n",
       "</style>\n",
       "<table border=\"1\" class=\"dataframe\">\n",
       "  <thead>\n",
       "    <tr style=\"text-align: right;\">\n",
       "      <th></th>\n",
       "      <th>RowNumber</th>\n",
       "      <th>CustomerId</th>\n",
       "      <th>Surname</th>\n",
       "      <th>CreditScore</th>\n",
       "      <th>Geography</th>\n",
       "      <th>Gender</th>\n",
       "      <th>Age</th>\n",
       "      <th>Tenure</th>\n",
       "      <th>Balance</th>\n",
       "      <th>NumOfProducts</th>\n",
       "      <th>HasCrCard</th>\n",
       "      <th>IsActiveMember</th>\n",
       "      <th>EstimatedSalary</th>\n",
       "      <th>Exited</th>\n",
       "    </tr>\n",
       "  </thead>\n",
       "  <tbody>\n",
       "    <tr>\n",
       "      <th>0</th>\n",
       "      <td>1</td>\n",
       "      <td>15634602</td>\n",
       "      <td>Hargrave</td>\n",
       "      <td>619</td>\n",
       "      <td>France</td>\n",
       "      <td>Female</td>\n",
       "      <td>42</td>\n",
       "      <td>2</td>\n",
       "      <td>0.00</td>\n",
       "      <td>1</td>\n",
       "      <td>1</td>\n",
       "      <td>1</td>\n",
       "      <td>101348.88</td>\n",
       "      <td>1</td>\n",
       "    </tr>\n",
       "    <tr>\n",
       "      <th>1</th>\n",
       "      <td>2</td>\n",
       "      <td>15647311</td>\n",
       "      <td>Hill</td>\n",
       "      <td>608</td>\n",
       "      <td>Spain</td>\n",
       "      <td>Female</td>\n",
       "      <td>41</td>\n",
       "      <td>1</td>\n",
       "      <td>83807.86</td>\n",
       "      <td>1</td>\n",
       "      <td>0</td>\n",
       "      <td>1</td>\n",
       "      <td>112542.58</td>\n",
       "      <td>0</td>\n",
       "    </tr>\n",
       "    <tr>\n",
       "      <th>2</th>\n",
       "      <td>3</td>\n",
       "      <td>15619304</td>\n",
       "      <td>Onio</td>\n",
       "      <td>502</td>\n",
       "      <td>France</td>\n",
       "      <td>Female</td>\n",
       "      <td>42</td>\n",
       "      <td>8</td>\n",
       "      <td>159660.80</td>\n",
       "      <td>3</td>\n",
       "      <td>1</td>\n",
       "      <td>0</td>\n",
       "      <td>113931.57</td>\n",
       "      <td>1</td>\n",
       "    </tr>\n",
       "    <tr>\n",
       "      <th>3</th>\n",
       "      <td>4</td>\n",
       "      <td>15701354</td>\n",
       "      <td>Boni</td>\n",
       "      <td>699</td>\n",
       "      <td>France</td>\n",
       "      <td>Female</td>\n",
       "      <td>39</td>\n",
       "      <td>1</td>\n",
       "      <td>0.00</td>\n",
       "      <td>2</td>\n",
       "      <td>0</td>\n",
       "      <td>0</td>\n",
       "      <td>93826.63</td>\n",
       "      <td>0</td>\n",
       "    </tr>\n",
       "    <tr>\n",
       "      <th>4</th>\n",
       "      <td>5</td>\n",
       "      <td>15737888</td>\n",
       "      <td>Mitchell</td>\n",
       "      <td>850</td>\n",
       "      <td>Spain</td>\n",
       "      <td>Female</td>\n",
       "      <td>43</td>\n",
       "      <td>2</td>\n",
       "      <td>125510.82</td>\n",
       "      <td>1</td>\n",
       "      <td>1</td>\n",
       "      <td>1</td>\n",
       "      <td>79084.10</td>\n",
       "      <td>0</td>\n",
       "    </tr>\n",
       "  </tbody>\n",
       "</table>\n",
       "</div>"
      ],
      "text/plain": [
       "   RowNumber  CustomerId   Surname  CreditScore Geography  Gender  Age  \\\n",
       "0          1    15634602  Hargrave          619    France  Female   42   \n",
       "1          2    15647311      Hill          608     Spain  Female   41   \n",
       "2          3    15619304      Onio          502    France  Female   42   \n",
       "3          4    15701354      Boni          699    France  Female   39   \n",
       "4          5    15737888  Mitchell          850     Spain  Female   43   \n",
       "\n",
       "   Tenure    Balance  NumOfProducts  HasCrCard  IsActiveMember  \\\n",
       "0       2       0.00              1          1               1   \n",
       "1       1   83807.86              1          0               1   \n",
       "2       8  159660.80              3          1               0   \n",
       "3       1       0.00              2          0               0   \n",
       "4       2  125510.82              1          1               1   \n",
       "\n",
       "   EstimatedSalary  Exited  \n",
       "0        101348.88       1  \n",
       "1        112542.58       0  \n",
       "2        113931.57       1  \n",
       "3         93826.63       0  \n",
       "4         79084.10       0  "
      ]
     },
     "execution_count": 4,
     "metadata": {},
     "output_type": "execute_result"
    }
   ],
   "source": [
    "dataset.head(n=5)"
   ]
  },
  {
   "cell_type": "markdown",
   "metadata": {},
   "source": [
    "## Encoding categorical data"
   ]
  },
  {
   "cell_type": "code",
   "execution_count": 5,
   "metadata": {
    "collapsed": true
   },
   "outputs": [],
   "source": [
    "from sklearn.preprocessing import LabelEncoder, OneHotEncoder\n",
    "labelencoder_X_1 = LabelEncoder()\n",
    "X[:, 1] = labelencoder_X_1.fit_transform(X[:, 1]) # for country\n",
    "labelencoder_X_2 = LabelEncoder()\n",
    "X[:, 2] = labelencoder_X_2.fit_transform(X[:, 2]) # for gender\n",
    "onehotencoder = OneHotEncoder(categorical_features = [1])\n",
    "X = onehotencoder.fit_transform(X).toarray()\n",
    "# Removing one dummy variable from country\n",
    "X = X[:, 1:]"
   ]
  },
  {
   "cell_type": "markdown",
   "metadata": {},
   "source": [
    "## Splitting the dataset into the Training set and Test set"
   ]
  },
  {
   "cell_type": "code",
   "execution_count": 6,
   "metadata": {
    "collapsed": true
   },
   "outputs": [],
   "source": [
    "from sklearn.model_selection import train_test_split\n",
    "X_train, X_test, y_train, y_test = train_test_split(X, y, test_size = 0.2, random_state = 0)"
   ]
  },
  {
   "cell_type": "markdown",
   "metadata": {},
   "source": [
    "## Feature Scaling"
   ]
  },
  {
   "cell_type": "code",
   "execution_count": 7,
   "metadata": {
    "collapsed": true
   },
   "outputs": [],
   "source": [
    "from sklearn.preprocessing import StandardScaler\n",
    "sc = StandardScaler()\n",
    "X_train = sc.fit_transform(X_train)\n",
    "X_test = sc.transform(X_test)"
   ]
  },
  {
   "cell_type": "markdown",
   "metadata": {},
   "source": [
    "# Now let's make the ANN!"
   ]
  },
  {
   "cell_type": "code",
   "execution_count": 8,
   "metadata": {},
   "outputs": [
    {
     "name": "stderr",
     "output_type": "stream",
     "text": [
      "Using TensorFlow backend.\n"
     ]
    }
   ],
   "source": [
    "# Importing the Keras libraries and packages\n",
    "import keras\n",
    "from keras.models import Sequential\n",
    "from keras.layers import Dense"
   ]
  },
  {
   "cell_type": "code",
   "execution_count": 9,
   "metadata": {},
   "outputs": [
    {
     "name": "stderr",
     "output_type": "stream",
     "text": [
      "C:\\Users\\asd\\Anaconda2\\envs\\py36\\lib\\site-packages\\ipykernel\\__main__.py:4: UserWarning: Update your `Dense` call to the Keras 2 API: `Dense(activation=\"relu\", input_dim=11, units=6, kernel_initializer=\"uniform\")`\n",
      "C:\\Users\\asd\\Anaconda2\\envs\\py36\\lib\\site-packages\\ipykernel\\__main__.py:6: UserWarning: Update your `Dense` call to the Keras 2 API: `Dense(activation=\"relu\", units=6, kernel_initializer=\"uniform\")`\n",
      "C:\\Users\\asd\\Anaconda2\\envs\\py36\\lib\\site-packages\\ipykernel\\__main__.py:8: UserWarning: Update your `Dense` call to the Keras 2 API: `Dense(activation=\"sigmoid\", units=1, kernel_initializer=\"uniform\")`\n"
     ]
    }
   ],
   "source": [
    "# Initialising the ANN\n",
    "classifier = Sequential()\n",
    "# Adding the input layer and the first hidden layer #choosing 11 i.e 11 + 1 output layer divide by two\n",
    "classifier.add(Dense(output_dim = 6, init = 'uniform', activation = 'relu', input_dim = 11))\n",
    "# Adding the second hidden layer\n",
    "classifier.add(Dense(output_dim = 6, init = 'uniform', activation = 'relu'))\n",
    "# Adding the output layer\n",
    "classifier.add(Dense(output_dim = 1, init = 'uniform', activation = 'sigmoid'))\n",
    "# Compiling the ANN\n",
    "classifier.compile(optimizer = 'adam', loss = 'binary_crossentropy', metrics = ['accuracy'])"
   ]
  },
  {
   "cell_type": "markdown",
   "metadata": {},
   "source": [
    "## Fitting the ANN to the Training set"
   ]
  },
  {
   "cell_type": "code",
   "execution_count": 10,
   "metadata": {},
   "outputs": [
    {
     "name": "stderr",
     "output_type": "stream",
     "text": [
      "C:\\Users\\asd\\Anaconda2\\envs\\py36\\lib\\site-packages\\keras\\models.py:942: UserWarning: The `nb_epoch` argument in `fit` has been renamed `epochs`.\n",
      "  warnings.warn('The `nb_epoch` argument in `fit` '\n"
     ]
    },
    {
     "name": "stdout",
     "output_type": "stream",
     "text": [
      "Epoch 1/100\n",
      "8000/8000 [==============================] - 5s 647us/step - loss: 0.4851 - acc: 0.7957\n",
      "Epoch 2/100\n",
      "8000/8000 [==============================] - 4s 512us/step - loss: 0.4283 - acc: 0.7960\n",
      "Epoch 3/100\n",
      "8000/8000 [==============================] - 4s 560us/step - loss: 0.4227 - acc: 0.7960\n",
      "Epoch 4/100\n",
      "8000/8000 [==============================] - 4s 544us/step - loss: 0.4191 - acc: 0.8199\n",
      "Epoch 5/100\n",
      "8000/8000 [==============================] - 4s 539us/step - loss: 0.4164 - acc: 0.8250\n",
      "Epoch 6/100\n",
      "8000/8000 [==============================] - 4s 545us/step - loss: 0.4146 - acc: 0.8291\n",
      "Epoch 7/100\n",
      "8000/8000 [==============================] - 4s 543us/step - loss: 0.4138 - acc: 0.8305\n",
      "Epoch 8/100\n",
      "8000/8000 [==============================] - 5s 571us/step - loss: 0.4122 - acc: 0.8317 2s - loss: 0.4015 - a - ETA: \n",
      "Epoch 9/100\n",
      "8000/8000 [==============================] - 5s 599us/step - loss: 0.4112 - acc: 0.8322\n",
      "Epoch 10/100\n",
      "8000/8000 [==============================] - 5s 687us/step - loss: 0.4102 - acc: 0.8330 0s - loss: 0.4101 - acc: 0.\n",
      "Epoch 11/100\n",
      "8000/8000 [==============================] - 6s 782us/step - loss: 0.4094 - acc: 0.8335\n",
      "Epoch 12/100\n",
      "8000/8000 [==============================] - 7s 875us/step - loss: 0.4088 - acc: 0.8340\n",
      "Epoch 13/100\n",
      "8000/8000 [==============================] - 10s 1ms/step - loss: 0.4079 - acc: 0.8339\n",
      "Epoch 14/100\n",
      "8000/8000 [==============================] - 8s 978us/step - loss: 0.4075 - acc: 0.8344\n",
      "Epoch 15/100\n",
      "8000/8000 [==============================] - 7s 897us/step - loss: 0.4070 - acc: 0.8339\n",
      "Epoch 16/100\n",
      "8000/8000 [==============================] - 7s 868us/step - loss: 0.4067 - acc: 0.8341\n",
      "Epoch 17/100\n",
      "8000/8000 [==============================] - 7s 849us/step - loss: 0.4062 - acc: 0.8335\n",
      "Epoch 18/100\n",
      "8000/8000 [==============================] - 7s 864us/step - loss: 0.4060 - acc: 0.8351\n",
      "Epoch 19/100\n",
      "8000/8000 [==============================] - 9s 1ms/step - loss: 0.4051 - acc: 0.8349A: 2s - loss: 0.4001\n",
      "Epoch 20/100\n",
      "8000/8000 [==============================] - 9s 1ms/step - loss: 0.4051 - acc: 0.8349\n",
      "Epoch 21/100\n",
      "8000/8000 [==============================] - 8s 969us/step - loss: 0.4049 - acc: 0.8349\n",
      "Epoch 22/100\n",
      "8000/8000 [==============================] - 8s 943us/step - loss: 0.4047 - acc: 0.8356 3s - loss:\n",
      "Epoch 23/100\n",
      "8000/8000 [==============================] - 8s 962us/step - loss: 0.4045 - acc: 0.8356\n",
      "Epoch 24/100\n",
      "8000/8000 [==============================] - 9s 1ms/step - loss: 0.4036 - acc: 0.8342A: 4s - ETA: 2s - - ETA: 1s - loss: 0.4073 - - ETA: 0s - loss: 0.4071 - acc: 0.83 - ETA: 0s - loss: 0.4071 - - ETA: 0s - loss: 0.4048 - \n",
      "Epoch 25/100\n",
      "8000/8000 [==============================] - 6s 733us/step - loss: 0.4035 - acc: 0.8347\n",
      "Epoch 26/100\n",
      "8000/8000 [==============================] - 5s 659us/step - loss: 0.4038 - acc: 0.8337\n",
      "Epoch 27/100\n",
      "8000/8000 [==============================] - 5s 671us/step - loss: 0.4033 - acc: 0.8355\n",
      "Epoch 28/100\n",
      "8000/8000 [==============================] - 5s 659us/step - loss: 0.4036 - acc: 0.8344\n",
      "Epoch 29/100\n",
      "8000/8000 [==============================] - 5s 630us/step - loss: 0.4035 - acc: 0.8339\n",
      "Epoch 30/100\n",
      "8000/8000 [==============================] - 5s 685us/step - loss: 0.4026 - acc: 0.8349\n",
      "Epoch 31/100\n",
      "8000/8000 [==============================] - ETA: 0s - loss: 0.4033 - acc: 0.834 - 6s 752us/step - loss: 0.4028 - acc: 0.8344\n",
      "Epoch 32/100\n",
      "8000/8000 [==============================] - 7s 849us/step - loss: 0.4026 - acc: 0.8334\n",
      "Epoch 33/100\n",
      "8000/8000 [==============================] - 6s 694us/step - loss: 0.4021 - acc: 0.8342\n",
      "Epoch 34/100\n",
      "8000/8000 [==============================] - 5s 653us/step - loss: 0.4026 - acc: 0.8335\n",
      "Epoch 35/100\n",
      "8000/8000 [==============================] - 5s 665us/step - loss: 0.4027 - acc: 0.8349\n",
      "Epoch 36/100\n",
      "8000/8000 [==============================] - 5s 637us/step - loss: 0.4026 - acc: 0.8342\n",
      "Epoch 37/100\n",
      "8000/8000 [==============================] - 5s 606us/step - loss: 0.4021 - acc: 0.8346\n",
      "Epoch 38/100\n",
      "8000/8000 [==============================] - 5s 644us/step - loss: 0.4019 - acc: 0.8341\n",
      "Epoch 39/100\n",
      "8000/8000 [==============================] - 5s 677us/step - loss: 0.4017 - acc: 0.8359\n",
      "Epoch 40/100\n",
      "8000/8000 [==============================] - ETA: 0s - loss: 0.4023 - acc: 0.834 - 7s 829us/step - loss: 0.4020 - acc: 0.8346\n",
      "Epoch 41/100\n",
      "8000/8000 [==============================] - 7s 893us/step - loss: 0.4015 - acc: 0.8351\n",
      "Epoch 42/100\n",
      "8000/8000 [==============================] - 7s 924us/step - loss: 0.4016 - acc: 0.8357 1s - los\n",
      "Epoch 43/100\n",
      "8000/8000 [==============================] - 7s 825us/step - loss: 0.4018 - acc: 0.8355\n",
      "Epoch 44/100\n",
      "8000/8000 [==============================] - 6s 800us/step - loss: 0.4014 - acc: 0.8350\n",
      "Epoch 45/100\n",
      "8000/8000 [==============================] - 7s 888us/step - loss: 0.4013 - acc: 0.8352\n",
      "Epoch 46/100\n",
      "8000/8000 [==============================] - 8s 1ms/step - loss: 0.4010 - acc: 0.8331A: 0s - loss: 0.3989 -\n",
      "Epoch 47/100\n",
      "8000/8000 [==============================] - 8s 977us/step - loss: 0.4014 - acc: 0.8352\n",
      "Epoch 48/100\n",
      "8000/8000 [==============================] - 6s 802us/step - loss: 0.4011 - acc: 0.8340\n",
      "Epoch 49/100\n",
      "8000/8000 [==============================] - 7s 910us/step - loss: 0.4013 - acc: 0.8349 0\n",
      "Epoch 50/100\n",
      "8000/8000 [==============================] - 6s 696us/step - loss: 0.4014 - acc: 0.8347 0s - l\n",
      "Epoch 51/100\n",
      "8000/8000 [==============================] - 7s 928us/step - loss: 0.4009 - acc: 0.8356\n",
      "Epoch 52/100\n",
      "8000/8000 [==============================] - 6s 750us/step - loss: 0.4010 - acc: 0.8354\n",
      "Epoch 53/100\n",
      "8000/8000 [==============================] - 5s 678us/step - loss: 0.4010 - acc: 0.8355\n",
      "Epoch 54/100\n",
      "8000/8000 [==============================] - 5s 639us/step - loss: 0.4010 - acc: 0.8367\n",
      "Epoch 55/100\n",
      "8000/8000 [==============================] - 4s 489us/step - loss: 0.4004 - acc: 0.8366\n",
      "Epoch 56/100\n",
      "8000/8000 [==============================] - 4s 458us/step - loss: 0.4008 - acc: 0.8359\n",
      "Epoch 57/100\n",
      "8000/8000 [==============================] - 4s 529us/step - loss: 0.4008 - acc: 0.8347\n",
      "Epoch 58/100\n",
      "8000/8000 [==============================] - 5s 625us/step - loss: 0.4008 - acc: 0.8370\n",
      "Epoch 59/100\n",
      "8000/8000 [==============================] - 4s 543us/step - loss: 0.4008 - acc: 0.8364\n",
      "Epoch 60/100\n",
      "8000/8000 [==============================] - 4s 447us/step - loss: 0.4006 - acc: 0.8354\n",
      "Epoch 61/100\n",
      "8000/8000 [==============================] - 4s 452us/step - loss: 0.4004 - acc: 0.8342\n",
      "Epoch 62/100\n",
      "8000/8000 [==============================] - 4s 450us/step - loss: 0.4009 - acc: 0.8346\n",
      "Epoch 63/100\n",
      "8000/8000 [==============================] - 4s 474us/step - loss: 0.4009 - acc: 0.8349\n",
      "Epoch 64/100\n",
      "8000/8000 [==============================] - 7s 850us/step - loss: 0.4007 - acc: 0.8364\n",
      "Epoch 65/100\n",
      "8000/8000 [==============================] - 7s 830us/step - loss: 0.4009 - acc: 0.8364 0s - loss: 0.4011 - acc: 0.836\n",
      "Epoch 66/100\n",
      "8000/8000 [==============================] - 8s 956us/step - loss: 0.4006 - acc: 0.8364\n",
      "Epoch 67/100\n",
      "8000/8000 [==============================] - 7s 899us/step - loss: 0.4002 - acc: 0.8366\n",
      "Epoch 68/100\n",
      "8000/8000 [==============================] - 8s 965us/step - loss: 0.4006 - acc: 0.8359\n",
      "Epoch 69/100\n",
      "8000/8000 [==============================] - 7s 830us/step - loss: 0.4007 - acc: 0.8365\n",
      "Epoch 70/100\n",
      "8000/8000 [==============================] - 7s 827us/step - loss: 0.4005 - acc: 0.8370\n",
      "Epoch 71/100\n",
      "8000/8000 [==============================] - 6s 802us/step - loss: 0.4005 - acc: 0.8346\n",
      "Epoch 72/100\n",
      "8000/8000 [==============================] - 7s 819us/step - loss: 0.4006 - acc: 0.8347\n",
      "Epoch 73/100\n",
      "8000/8000 [==============================] - 7s 813us/step - loss: 0.4006 - acc: 0.8349\n",
      "Epoch 74/100\n",
      "8000/8000 [==============================] - 6s 717us/step - loss: 0.4003 - acc: 0.8355 0s - loss: 0.4006 - acc: 0.8\n",
      "Epoch 75/100\n",
      "8000/8000 [==============================] - 6s 751us/step - loss: 0.4004 - acc: 0.8357 0s - loss: 0.4018 \n",
      "Epoch 76/100\n",
      "8000/8000 [==============================] - 6s 727us/step - loss: 0.4005 - acc: 0.8340\n",
      "Epoch 77/100\n",
      "8000/8000 [==============================] - 6s 800us/step - loss: 0.4003 - acc: 0.8354\n",
      "Epoch 78/100\n",
      "8000/8000 [==============================] - 6s 715us/step - loss: 0.4005 - acc: 0.8349\n",
      "Epoch 79/100\n",
      "8000/8000 [==============================] - 6s 808us/step - loss: 0.4009 - acc: 0.8341\n",
      "Epoch 80/100\n",
      "8000/8000 [==============================] - 5s 636us/step - loss: 0.4005 - acc: 0.8345\n",
      "Epoch 81/100\n",
      "8000/8000 [==============================] - 5s 591us/step - loss: 0.4004 - acc: 0.8345\n",
      "Epoch 82/100\n",
      "8000/8000 [==============================] - 5s 601us/step - loss: 0.4001 - acc: 0.8360 1s - l\n",
      "Epoch 83/100\n",
      "8000/8000 [==============================] - 5s 576us/step - loss: 0.4003 - acc: 0.8351\n",
      "Epoch 84/100\n",
      "8000/8000 [==============================] - 5s 609us/step - loss: 0.4003 - acc: 0.8346\n",
      "Epoch 85/100\n",
      "8000/8000 [==============================] - 5s 594us/step - loss: 0.4005 - acc: 0.8359 1s \n",
      "Epoch 86/100\n",
      "8000/8000 [==============================] - 5s 610us/step - loss: 0.4005 - acc: 0.8350\n",
      "Epoch 87/100\n",
      "8000/8000 [==============================] - 5s 621us/step - loss: 0.4001 - acc: 0.8349\n",
      "Epoch 88/100\n",
      "8000/8000 [==============================] - 6s 807us/step - loss: 0.4001 - acc: 0.8361\n",
      "Epoch 89/100\n",
      "8000/8000 [==============================] - 6s 763us/step - loss: 0.4005 - acc: 0.8357\n",
      "Epoch 90/100\n",
      "8000/8000 [==============================] - 7s 883us/step - loss: 0.4001 - acc: 0.8357\n",
      "Epoch 91/100\n",
      "8000/8000 [==============================] - 6s 771us/step - loss: 0.4004 - acc: 0.8354\n",
      "Epoch 92/100\n",
      "8000/8000 [==============================] - 6s 740us/step - loss: 0.3999 - acc: 0.8357\n",
      "Epoch 93/100\n",
      "8000/8000 [==============================] - 6s 771us/step - loss: 0.4003 - acc: 0.8371\n",
      "Epoch 94/100\n",
      "8000/8000 [==============================] - 6s 742us/step - loss: 0.3999 - acc: 0.8356 \n",
      "Epoch 95/100\n",
      "8000/8000 [==============================] - 5s 658us/step - loss: 0.4004 - acc: 0.8345\n",
      "Epoch 96/100\n",
      "8000/8000 [==============================] - 5s 680us/step - loss: 0.3998 - acc: 0.8356\n",
      "Epoch 97/100\n",
      "8000/8000 [==============================] - 6s 798us/step - loss: 0.4002 - acc: 0.8350\n",
      "Epoch 98/100\n",
      "8000/8000 [==============================] - 6s 775us/step - loss: 0.4004 - acc: 0.8337\n",
      "Epoch 99/100\n",
      "8000/8000 [==============================] - 6s 784us/step - loss: 0.4003 - acc: 0.8355\n",
      "Epoch 100/100\n",
      "8000/8000 [==============================] - 6s 698us/step - loss: 0.4001 - acc: 0.8355\n"
     ]
    },
    {
     "data": {
      "text/plain": [
       "<keras.callbacks.History at 0xf862668>"
      ]
     },
     "execution_count": 10,
     "metadata": {},
     "output_type": "execute_result"
    }
   ],
   "source": [
    "classifier.fit(X_train, y_train, batch_size = 10, nb_epoch = 100)"
   ]
  },
  {
   "cell_type": "markdown",
   "metadata": {},
   "source": [
    "# Making the predictions and evaluating the model"
   ]
  },
  {
   "cell_type": "markdown",
   "metadata": {},
   "source": [
    "## Predicting the Test set results"
   ]
  },
  {
   "cell_type": "code",
   "execution_count": 11,
   "metadata": {
    "collapsed": true
   },
   "outputs": [],
   "source": [
    "y_pred = classifier.predict(X_test)\n",
    "y_pred = (y_pred > 0.5)"
   ]
  },
  {
   "cell_type": "code",
   "execution_count": 19,
   "metadata": {},
   "outputs": [
    {
     "data": {
      "text/plain": [
       "array([[False],\n",
       "       [False],\n",
       "       [False],\n",
       "       ..., \n",
       "       [False],\n",
       "       [False],\n",
       "       [False]], dtype=bool)"
      ]
     },
     "execution_count": 19,
     "metadata": {},
     "output_type": "execute_result"
    }
   ],
   "source": [
    "y_pred"
   ]
  },
  {
   "cell_type": "markdown",
   "metadata": {},
   "source": [
    "## Making the Confusion Matrix"
   ]
  },
  {
   "cell_type": "code",
   "execution_count": 13,
   "metadata": {},
   "outputs": [
    {
     "data": {
      "text/plain": [
       "array([[1543,   52],\n",
       "       [ 263,  142]], dtype=int64)"
      ]
     },
     "execution_count": 13,
     "metadata": {},
     "output_type": "execute_result"
    }
   ],
   "source": [
    "from sklearn.metrics import confusion_matrix\n",
    "cm = confusion_matrix(y_test, y_pred)\n",
    "cm"
   ]
  },
  {
   "cell_type": "code",
   "execution_count": 15,
   "metadata": {},
   "outputs": [
    {
     "data": {
      "text/plain": [
       "0.8425"
      ]
     },
     "execution_count": 15,
     "metadata": {},
     "output_type": "execute_result"
    }
   ],
   "source": [
    "Accuracy = (1543+142)/(1543+142+52+263)\n",
    "Accuracy"
   ]
  }
 ],
 "metadata": {
  "kernelspec": {
   "display_name": "Python [conda env:py36]",
   "language": "python",
   "name": "conda-env-py36-py"
  },
  "language_info": {
   "codemirror_mode": {
    "name": "ipython",
    "version": 3
   },
   "file_extension": ".py",
   "mimetype": "text/x-python",
   "name": "python",
   "nbconvert_exporter": "python",
   "pygments_lexer": "ipython3",
   "version": "3.6.4"
  }
 },
 "nbformat": 4,
 "nbformat_minor": 2
}
