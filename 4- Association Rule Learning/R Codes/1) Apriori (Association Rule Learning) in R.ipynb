{
 "cells": [
  {
   "cell_type": "markdown",
   "metadata": {},
   "source": [
    "# Apriori"
   ]
  },
  {
   "cell_type": "markdown",
   "metadata": {},
   "source": [
    "### Data Preprocessing"
   ]
  },
  {
   "cell_type": "code",
   "execution_count": 4,
   "metadata": {},
   "outputs": [
    {
     "name": "stderr",
     "output_type": "stream",
     "text": [
      "Warning message:\n",
      "\"package 'arules' was built under R version 3.4.4\"\n",
      "Attaching package: 'arules'\n",
      "\n",
      "The following objects are masked from 'package:base':\n",
      "\n",
      "    abbreviate, write\n",
      "\n"
     ]
    },
    {
     "name": "stdout",
     "output_type": "stream",
     "text": [
      "distribution of transactions with duplicates:\n",
      "1 \n",
      "5 \n"
     ]
    },
    {
     "data": {
      "text/plain": [
       "transactions as itemMatrix in sparse format with\n",
       " 7501 rows (elements/itemsets/transactions) and\n",
       " 119 columns (items) and a density of 0.03288973 \n",
       "\n",
       "most frequent items:\n",
       "mineral water          eggs     spaghetti  french fries     chocolate \n",
       "         1788          1348          1306          1282          1229 \n",
       "      (Other) \n",
       "        22405 \n",
       "\n",
       "element (itemset/transaction) length distribution:\n",
       "sizes\n",
       "   1    2    3    4    5    6    7    8    9   10   11   12   13   14   15   16 \n",
       "1754 1358 1044  816  667  493  391  324  259  139  102   67   40   22   17    4 \n",
       "  18   19   20 \n",
       "   1    2    1 \n",
       "\n",
       "   Min. 1st Qu.  Median    Mean 3rd Qu.    Max. \n",
       "  1.000   2.000   3.000   3.914   5.000  20.000 \n",
       "\n",
       "includes extended item information - examples:\n",
       "             labels\n",
       "1           almonds\n",
       "2 antioxydant juice\n",
       "3         asparagus"
      ]
     },
     "metadata": {},
     "output_type": "display_data"
    },
    {
     "data": {
      "image/png": "[encoded data removed]",
      "text/plain": [
       "plot without title"
      ]
     },
     "metadata": {},
     "output_type": "display_data"
    }
   ],
   "source": [
    "library(arules)\n",
    "dataset = read.csv('Market_Basket_Optimisation.csv', header = FALSE)\n",
    "dataset = read.transactions('Market_Basket_Optimisation.csv', sep = ',', rm.duplicates = TRUE)\n",
    "summary(dataset)\n",
    "itemFrequencyPlot(dataset, topN = 10)"
   ]
  },
  {
   "cell_type": "code",
   "execution_count": 5,
   "metadata": {},
   "outputs": [
    {
     "name": "stdout",
     "output_type": "stream",
     "text": [
      "Apriori\n",
      "\n",
      "Parameter specification:\n",
      " confidence minval smax arem  aval originalSupport maxtime support minlen\n",
      "        0.2    0.1    1 none FALSE            TRUE       5   0.004      1\n",
      " maxlen target   ext\n",
      "     10  rules FALSE\n",
      "\n",
      "Algorithmic control:\n",
      " filter tree heap memopt load sort verbose\n",
      "    0.1 TRUE TRUE  FALSE TRUE    2    TRUE\n",
      "\n",
      "Absolute minimum support count: 30 \n",
      "\n",
      "set item appearances ...[0 item(s)] done [0.00s].\n",
      "set transactions ...[119 item(s), 7501 transaction(s)] done [0.00s].\n",
      "sorting and recoding items ... [114 item(s)] done [0.00s].\n",
      "creating transaction tree ... done [0.00s].\n",
      "checking subsets of size 1 2 3 4 done [0.02s].\n",
      "writing ... [811 rule(s)] done [0.00s].\n",
      "creating S4 object  ... done [0.01s].\n"
     ]
    }
   ],
   "source": [
    "# Training Apriori on the dataset\n",
    "rules = apriori(data = dataset, parameter = list(support = 0.004, confidence = 0.2))"
   ]
  },
  {
   "cell_type": "code",
   "execution_count": 6,
   "metadata": {},
   "outputs": [
    {
     "name": "stdout",
     "output_type": "stream",
     "text": [
      "     lhs                       rhs                 support confidence     lift count\n",
      "[1]  {light cream}          => {chicken}       0.004532729  0.2905983 4.843951    34\n",
      "[2]  {pasta}                => {escalope}      0.005865885  0.3728814 4.700812    44\n",
      "[3]  {pasta}                => {shrimp}        0.005065991  0.3220339 4.506672    38\n",
      "[4]  {eggs,                                                                         \n",
      "      ground beef}          => {herb & pepper} 0.004132782  0.2066667 4.178455    31\n",
      "[5]  {whole wheat pasta}    => {olive oil}     0.007998933  0.2714932 4.122410    60\n",
      "[6]  {herb & pepper,                                                                \n",
      "      spaghetti}            => {ground beef}   0.006399147  0.3934426 4.004360    48\n",
      "[7]  {herb & pepper,                                                                \n",
      "      mineral water}        => {ground beef}   0.006665778  0.3906250 3.975683    50\n",
      "[8]  {tomato sauce}         => {ground beef}   0.005332622  0.3773585 3.840659    40\n",
      "[9]  {mushroom cream sauce} => {escalope}      0.005732569  0.3006993 3.790833    43\n",
      "[10] {frozen vegetables,                                                            \n",
      "      mineral water,                                                                \n",
      "      spaghetti}            => {ground beef}   0.004399413  0.3666667 3.731841    33\n"
     ]
    }
   ],
   "source": [
    "# Visualising the results\n",
    "inspect(sort(rules, by = 'lift')[1:10])"
   ]
  }
 ],
 "metadata": {
  "kernelspec": {
   "display_name": "R",
   "language": "R",
   "name": "ir"
  },
  "language_info": {
   "codemirror_mode": "r",
   "file_extension": ".r",
   "mimetype": "text/x-r-source",
   "name": "R",
   "pygments_lexer": "r",
   "version": "3.4.2"
  }
 },
 "nbformat": 4,
 "nbformat_minor": 2
}
