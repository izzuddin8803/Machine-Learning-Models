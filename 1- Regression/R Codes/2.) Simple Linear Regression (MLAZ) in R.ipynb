{
 "cells": [
  {
   "cell_type": "code",
   "execution_count": 5,
   "metadata": {
    "collapsed": true
   },
   "outputs": [],
   "source": [
    "#importing dataset\n",
    "dataset = read.csv('Salary_Data.csv')"
   ]
  },
  {
   "cell_type": "code",
   "execution_count": 6,
   "metadata": {},
   "outputs": [
    {
     "name": "stdout",
     "output_type": "stream",
     "text": [
      "   YearsExperience Salary\n",
      "1              1.1  39343\n",
      "2              1.3  46205\n",
      "3              1.5  37731\n",
      "4              2.0  43525\n",
      "5              2.2  39891\n",
      "6              2.9  56642\n",
      "7              3.0  60150\n",
      "8              3.2  54445\n",
      "9              3.2  64445\n",
      "10             3.7  57189\n",
      "11             3.9  63218\n",
      "12             4.0  55794\n",
      "13             4.0  56957\n",
      "14             4.1  57081\n",
      "15             4.5  61111\n",
      "16             4.9  67938\n",
      "17             5.1  66029\n",
      "18             5.3  83088\n",
      "19             5.9  81363\n",
      "20             6.0  93940\n",
      "21             6.8  91738\n",
      "22             7.1  98273\n",
      "23             7.9 101302\n",
      "24             8.2 113812\n",
      "25             8.7 109431\n",
      "26             9.0 105582\n",
      "27             9.5 116969\n",
      "28             9.6 112635\n",
      "29            10.3 122391\n",
      "30            10.5 121872\n"
     ]
    }
   ],
   "source": [
    "show(dataset)"
   ]
  },
  {
   "cell_type": "code",
   "execution_count": 10,
   "metadata": {},
   "outputs": [],
   "source": [
    "##splitting dataset into training and test set\n",
    "library(caTools)\n",
    "set.seed(123)\n",
    "split = sample.split(dataset$Salary, SplitRatio = 2/3)\n",
    "training_set = subset (dataset, split == TRUE)\n",
    "test_set     = subset (dataset, split == FALSE)"
   ]
  },
  {
   "cell_type": "code",
   "execution_count": 11,
   "metadata": {
    "collapsed": true
   },
   "outputs": [],
   "source": [
    "#Fitting Simple linear regression on training set\n",
    "regressor = lm(formula = Salary ~ YearsExperience,\n",
    "               data = training_set)"
   ]
  },
  {
   "cell_type": "code",
   "execution_count": 12,
   "metadata": {},
   "outputs": [
    {
     "data": {
      "text/plain": [
       "\n",
       "Call:\n",
       "lm(formula = Salary ~ YearsExperience, data = training_set)\n",
       "\n",
       "Residuals:\n",
       "    Min      1Q  Median      3Q     Max \n",
       "-7325.1 -3814.4   427.7  3559.7  8884.6 \n",
       "\n",
       "Coefficients:\n",
       "                Estimate Std. Error t value Pr(>|t|)    \n",
       "(Intercept)        25592       2646   9.672 1.49e-08 ***\n",
       "YearsExperience     9365        421  22.245 1.52e-14 ***\n",
       "---\n",
       "Signif. codes:  0 '***' 0.001 '**' 0.01 '*' 0.05 '.' 0.1 ' ' 1\n",
       "\n",
       "Residual standard error: 5391 on 18 degrees of freedom\n",
       "Multiple R-squared:  0.9649,\tAdjusted R-squared:  0.963 \n",
       "F-statistic: 494.8 on 1 and 18 DF,  p-value: 1.524e-14\n"
      ]
     },
     "metadata": {},
     "output_type": "display_data"
    }
   ],
   "source": [
    "summary (regressor)"
   ]
  },
  {
   "cell_type": "code",
   "execution_count": 13,
   "metadata": {
    "collapsed": true
   },
   "outputs": [],
   "source": [
    "#Predicting the test set result\n",
    "y_pred = predict(regressor, newdata = test_set)"
   ]
  },
  {
   "cell_type": "code",
   "execution_count": 15,
   "metadata": {},
   "outputs": [
    {
     "data": {},
     "metadata": {},
     "output_type": "display_data"
    },
    {
     "data": {
      "image/png": "[encoded data removed]",
      "text/plain": [
       "plot without title"
      ]
     },
     "metadata": {},
     "output_type": "display_data"
    }
   ],
   "source": [
    "#Visualising the Training set results\n",
    "# install.packages('ggplot2')\n",
    "library(ggplot2)\n",
    "ggplot() +\n",
    "  geom_point(aes(x = training_set$YearsExperience, y = training_set$Salary),\n",
    "             colour = 'red') +\n",
    "  geom_line(aes(x = training_set$YearsExperience, y = predict(regressor, newdata = training_set)),\n",
    "            colour = 'blue') +\n",
    "  ggtitle('Salary Vs Experieince(Training Set)') +\n",
    "  xlab('Years of Experieince') +\n",
    "  ylab('Salary')"
   ]
  },
  {
   "cell_type": "code",
   "execution_count": 16,
   "metadata": {},
   "outputs": [
    {
     "data": {},
     "metadata": {},
     "output_type": "display_data"
    },
    {
     "data": {
      "image/png": "[encoded data removed]",
      "text/plain": [
       "plot without title"
      ]
     },
     "metadata": {},
     "output_type": "display_data"
    }
   ],
   "source": [
    "#Visualising the Test set results\n",
    "library(ggplot2)\n",
    "ggplot() +\n",
    "  geom_point(aes(x = test_set$YearsExperience, y = test_set$Salary),\n",
    "             colour = 'red') +\n",
    "  geom_line(aes(x = training_set$YearsExperience, y = predict(regressor, newdata = training_set)),\n",
    "            colour = 'blue') +\n",
    "  ggtitle('Salary Vs Experieince(Test Set)') +\n",
    "  xlab('Years of Experieince') +\n",
    "  ylab('Salary')"
   ]
  }
 ],
 "metadata": {
  "kernelspec": {
   "display_name": "R",
   "language": "R",
   "name": "ir"
  },
  "language_info": {
   "codemirror_mode": "r",
   "file_extension": ".r",
   "mimetype": "text/x-r-source",
   "name": "R",
   "pygments_lexer": "r",
   "version": "3.4.2"
  }
 },
 "nbformat": 4,
 "nbformat_minor": 2
}
