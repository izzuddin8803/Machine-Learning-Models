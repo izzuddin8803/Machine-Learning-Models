{
 "cells": [
  {
   "cell_type": "markdown",
   "metadata": {},
   "source": [
    "# Random Forest Regression"
   ]
  },
  {
   "cell_type": "code",
   "execution_count": 25,
   "metadata": {
    "collapsed": true
   },
   "outputs": [],
   "source": [
    "# Importing the dataset\n",
    "dataset = read.csv('Position_Salaries.csv')\n",
    "dataset = dataset[2:3]"
   ]
  },
  {
   "cell_type": "markdown",
   "metadata": {},
   "source": [
    "## Building Random Forest Regressor"
   ]
  },
  {
   "cell_type": "code",
   "execution_count": 26,
   "metadata": {
    "collapsed": true
   },
   "outputs": [],
   "source": [
    "library(randomForest)\n",
    "set.seed(1234)\n",
    "regressor = randomForest(x = dataset[-2],\n",
    "                         y = dataset$Salary,\n",
    "                         ntree = 10)"
   ]
  },
  {
   "cell_type": "code",
   "execution_count": 27,
   "metadata": {},
   "outputs": [
    {
     "data": {},
     "metadata": {},
     "output_type": "display_data"
    },
    {
     "data": {
      "image/png": "[encoded data removed]",
      "text/plain": [
       "plot without title"
      ]
     },
     "metadata": {},
     "output_type": "display_data"
    }
   ],
   "source": [
    "# Visualising the Random Forest Regression results (higher resolution)\n",
    "# install.packages('ggplot2')\n",
    "library(ggplot2)\n",
    "x_grid = seq(min(dataset$Level), max(dataset$Level), 0.01)\n",
    "ggplot() +\n",
    "  geom_point(aes(x = dataset$Level, y = dataset$Salary),\n",
    "             colour = 'red') +\n",
    "  geom_line(aes(x = x_grid, y = predict(regressor, newdata = data.frame(Level = x_grid))),\n",
    "            colour = 'blue') +\n",
    "  ggtitle('Truth or Bluff (Random Forest Regression)') +\n",
    "  xlab('Level') +\n",
    "  ylab('Salary')"
   ]
  },
  {
   "cell_type": "code",
   "execution_count": 28,
   "metadata": {},
   "outputs": [
    {
     "data": {
      "text/html": [
       "<strong>1:</strong> 141733.333333333"
      ],
      "text/latex": [
       "\\textbf{1:} 141733.333333333"
      ],
      "text/markdown": [
       "**1:** 141733.333333333"
      ],
      "text/plain": [
       "       1 \n",
       "141733.3 "
      ]
     },
     "metadata": {},
     "output_type": "display_data"
    }
   ],
   "source": [
    "# Predicting a new result with Random Forest Regression\n",
    "y_pred = predict(regressor, data.frame(Level = 6.5))\n",
    "y_pred"
   ]
  },
  {
   "cell_type": "code",
   "execution_count": 29,
   "metadata": {},
   "outputs": [],
   "source": [
    "library(randomForest)\n",
    "set.seed(1234)\n",
    "regressor = randomForest(x = dataset[-2],\n",
    "                         y = dataset$Salary,\n",
    "                         ntree = 500)"
   ]
  },
  {
   "cell_type": "code",
   "execution_count": 30,
   "metadata": {},
   "outputs": [
    {
     "data": {},
     "metadata": {},
     "output_type": "display_data"
    },
    {
     "data": {
      "image/png": "[encoded data removed]",
      "text/plain": [
       "plot without title"
      ]
     },
     "metadata": {},
     "output_type": "display_data"
    }
   ],
   "source": [
    "# Visualising the Random Forest Regression results (higher resolution)\n",
    "# install.packages('ggplot2')\n",
    "library(ggplot2)\n",
    "x_grid = seq(min(dataset$Level), max(dataset$Level), 0.01)\n",
    "ggplot() +\n",
    "  geom_point(aes(x = dataset$Level, y = dataset$Salary),\n",
    "             colour = 'red') +\n",
    "  geom_line(aes(x = x_grid, y = predict(regressor, newdata = data.frame(Level = x_grid))),\n",
    "            colour = 'blue') +\n",
    "  ggtitle('Truth or Bluff (Random Forest Regression)') +\n",
    "  xlab('Level') +\n",
    "  ylab('Salary')"
   ]
  },
  {
   "cell_type": "code",
   "execution_count": 31,
   "metadata": {},
   "outputs": [
    {
     "data": {
      "text/html": [
       "<strong>1:</strong> 160457.666666667"
      ],
      "text/latex": [
       "\\textbf{1:} 160457.666666667"
      ],
      "text/markdown": [
       "**1:** 160457.666666667"
      ],
      "text/plain": [
       "       1 \n",
       "160457.7 "
      ]
     },
     "metadata": {},
     "output_type": "display_data"
    }
   ],
   "source": [
    "# Predicting a new result with Random Forest Regression\n",
    "y_pred = predict(regressor, data.frame(Level = 6.5))\n",
    "y_pred"
   ]
  }
 ],
 "metadata": {
  "kernelspec": {
   "display_name": "R",
   "language": "R",
   "name": "ir"
  },
  "language_info": {
   "codemirror_mode": "r",
   "file_extension": ".r",
   "mimetype": "text/x-r-source",
   "name": "R",
   "pygments_lexer": "r",
   "version": "3.4.2"
  }
 },
 "nbformat": 4,
 "nbformat_minor": 2
}
